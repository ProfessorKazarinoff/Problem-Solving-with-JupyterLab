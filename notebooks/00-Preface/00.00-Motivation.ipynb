{
 "cells": [
  {
   "cell_type": "markdown",
   "metadata": {},
   "source": [
    "# Preface"
   ]
  },
  {
   "cell_type": "markdown",
   "metadata": {},
   "source": [
    "## Motivation"
   ]
  },
  {
   "cell_type": "markdown",
   "metadata": {},
   "source": [
    "The motivation for writing this book is that many undergraduate engineering students have to complete some problem solving with computer programming as part of their introductory coursework. At may colleges, MATLAB is used as the computer programming language to solve these problems in undergraduate engineering courses. MATLAB is a great piece of software, but it currently costs $49.00 for a student license and requires a group academic site license to be installed in college computer labs. Subsequently, it is costly for a student to use MATLAB and it is costly for a college to support a course that uses MATLAB.\n",
    "\n",
    "Enter Python. Python is free to download and has a vast ecosystem around it. When we moved to teaching Python there were many different options to use as our choosen user-interface with the Python language. A couple options we considered are below:\n",
    "\n",
    " * PyCharm community edition\n",
    " \n",
    " * Sublime Text\n",
    " \n",
    " * REPL.it\n",
    " \n",
    " * Visual Studio Code\n",
    " \n",
    " * Jupyter Notebooks\n",
    " \n",
    " * Jupyter Lab\n",
    " \n",
    "My experience using Jupyter Hub with a course prompted the possibility of students using Jupyter Lab as an user-interface instead of the regular Jupyter notebooks. With a change in programming languages and tools why not choose the tool that is going to be maintained for a long time?\n",
    "\n",
    "Jupyter Lab is a great tool, but as of this writing, there just aren't a ton of books or resources about it. I wanted to create a reference that students could look back to when they are installing and using JupyterLab for the first time. \n",
    "\n",
    "This book is part of a contining series of books on using programming to solve problems. The other books in the series are:\n",
    "\n",
    " * Problem Sovling with Python\n",
    " \n",
    " * Problem Solving 101 with Python\n",
    " \n",
    " * Problem Solving with Jupyter Lab"
   ]
  }
 ],
 "metadata": {
  "kernelspec": {
   "display_name": "Python 3",
   "language": "python",
   "name": "python3"
  },
  "language_info": {
   "codemirror_mode": {
    "name": "ipython",
    "version": 3
   },
   "file_extension": ".py",
   "mimetype": "text/x-python",
   "name": "python",
   "nbconvert_exporter": "python",
   "pygments_lexer": "ipython3",
   "version": "3.7.0"
  }
 },
 "nbformat": 4,
 "nbformat_minor": 2
}
